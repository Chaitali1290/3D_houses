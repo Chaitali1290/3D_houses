{
  "nbformat": 4,
  "nbformat_minor": 0,
  "metadata": {
    "colab": {
      "name": "Untitled0.ipynb",
      "provenance": [],
      "collapsed_sections": []
    },
    "kernelspec": {
      "name": "python3",
      "display_name": "Python 3"
    },
    "language_info": {
      "name": "python"
    }
  },
  "cells": [
    {
      "cell_type": "code",
      "execution_count": 1,
      "metadata": {
        "id": "u-aAl7lzXZ2U"
      },
      "outputs": [],
      "source": [
        "import requests\n",
        "import json\n",
        "import matplotlib.pyplot as plt\n",
        "from shapely.geometry.polygon import Polygon\n",
        "import gdal\n",
        "import rasterio \n",
        "from rasterio.plot import show\n",
        "from rasterio.mask import mask"
      ]
    },
    {
      "cell_type": "code",
      "source": [
        "!pip install rasterio"
      ],
      "metadata": {
        "colab": {
          "base_uri": "https://localhost:8080/"
        },
        "id": "49S8Rbr8jjvH",
        "outputId": "b11a481b-3bb1-4bc3-c044-c85bff63536e"
      },
      "execution_count": 2,
      "outputs": [
        {
          "output_type": "stream",
          "name": "stdout",
          "text": [
            "Looking in indexes: https://pypi.org/simple, https://us-python.pkg.dev/colab-wheels/public/simple/\n",
            "Requirement already satisfied: rasterio in /usr/local/lib/python3.7/dist-packages (1.2.10)\n",
            "Requirement already satisfied: setuptools in /usr/local/lib/python3.7/dist-packages (from rasterio) (57.4.0)\n",
            "Requirement already satisfied: attrs in /usr/local/lib/python3.7/dist-packages (from rasterio) (21.4.0)\n",
            "Requirement already satisfied: numpy in /usr/local/lib/python3.7/dist-packages (from rasterio) (1.21.6)\n",
            "Requirement already satisfied: affine in /usr/local/lib/python3.7/dist-packages (from rasterio) (2.3.1)\n",
            "Requirement already satisfied: cligj>=0.5 in /usr/local/lib/python3.7/dist-packages (from rasterio) (0.7.2)\n",
            "Requirement already satisfied: certifi in /usr/local/lib/python3.7/dist-packages (from rasterio) (2022.6.15)\n",
            "Requirement already satisfied: click-plugins in /usr/local/lib/python3.7/dist-packages (from rasterio) (1.1.1)\n",
            "Requirement already satisfied: click>=4.0 in /usr/local/lib/python3.7/dist-packages (from rasterio) (7.1.2)\n",
            "Requirement already satisfied: snuggs>=1.4.1 in /usr/local/lib/python3.7/dist-packages (from rasterio) (1.4.7)\n",
            "Requirement already satisfied: pyparsing>=2.1.6 in /usr/local/lib/python3.7/dist-packages (from snuggs>=1.4.1->rasterio) (3.0.9)\n"
          ]
        }
      ]
    },
    {
      "cell_type": "code",
      "source": [
        "!pip install gdal"
      ],
      "metadata": {
        "colab": {
          "base_uri": "https://localhost:8080/"
        },
        "id": "y2djTik8LifF",
        "outputId": "44cef6c4-0ad6-4957-93ba-d2d219ccac28"
      },
      "execution_count": 3,
      "outputs": [
        {
          "output_type": "stream",
          "name": "stdout",
          "text": [
            "Looking in indexes: https://pypi.org/simple, https://us-python.pkg.dev/colab-wheels/public/simple/\n",
            "Requirement already satisfied: gdal in /usr/local/lib/python3.7/dist-packages (2.2.2)\n"
          ]
        }
      ]
    },
    {
      "cell_type": "code",
      "source": [
        "# Getting the data from first api\n",
        "\n",
        "url = (\"https://loc.geopunt.be/v4/location?q=Kipdorpvest%2046.2000%20Antwerpen\")\n",
        "r = requests.get(url)\n",
        "data = r.json()  # extracting data in json format\n",
        "data"
      ],
      "metadata": {
        "colab": {
          "base_uri": "https://localhost:8080/"
        },
        "id": "BHnpzKUihyGD",
        "outputId": "6a60a985-bb74-44c9-b60b-a4ddb0d569fe"
      },
      "execution_count": 4,
      "outputs": [
        {
          "output_type": "execute_result",
          "data": {
            "text/plain": [
              "{'LocationResult': [{'BoundingBox': {'LowerLeft': {'Lat_WGS84': 51.21667596358092,\n",
              "     'Lon_WGS84': 4.413419257819423,\n",
              "     'X_Lambert72': 153120.57,\n",
              "     'Y_Lambert72': 211859.33},\n",
              "    'UpperRight': {'Lat_WGS84': 51.2198772508278,\n",
              "     'Lon_WGS84': 4.415307103722314,\n",
              "     'X_Lambert72': 153252.25,\n",
              "     'Y_Lambert72': 212215.57}},\n",
              "   'FormattedAddress': 'Kipdorpvest, Antwerpen',\n",
              "   'Housenumber': None,\n",
              "   'ID': 1533,\n",
              "   'Location': {'Lat_WGS84': 51.218221675900615,\n",
              "    'Lon_WGS84': 4.414405172451756,\n",
              "    'X_Lambert72': 153189.35,\n",
              "    'Y_Lambert72': 212031.34},\n",
              "   'LocationType': 'crab_straat',\n",
              "   'Municipality': 'Antwerpen',\n",
              "   'Thoroughfarename': 'Kipdorpvest',\n",
              "   'Zipcode': '2000'}]}"
            ]
          },
          "metadata": {},
          "execution_count": 4
        }
      ]
    },
    {
      "cell_type": "code",
      "source": [
        "# Getting info of an address in json format\n",
        "\n",
        "params = {\"straatnaam\" : \"Kipdorpvest\", \"Huisnummer\" : 46, \"postcode\" : 2000}\n",
        "add_url = (\"https://api.basisregisters.vlaanderen.be/v1/adresmatch\")\n",
        "req_url = requests.get(add_url, params)\n",
        "add_info = req_url.json()\n",
        "add_info"
      ],
      "metadata": {
        "colab": {
          "base_uri": "https://localhost:8080/"
        },
        "id": "n5001v5Hkaae",
        "outputId": "e09e0fc9-7871-4247-9ddd-640c0fa09f11"
      },
      "execution_count": 5,
      "outputs": [
        {
          "output_type": "execute_result",
          "data": {
            "text/plain": [
              "{'adresMatches': [{'adresPositie': {'point': {'coordinates': [153140.69,\n",
              "      211933.37],\n",
              "     'type': 'Point'}},\n",
              "   'adresStatus': 'inGebruik',\n",
              "   'adresseerbareObjecten': [{'detail': 'https://api.basisregisters.vlaanderen.be/v1/gebouweenheden/16272156',\n",
              "     'objectId': '16272156',\n",
              "     'objectType': 'gebouweenheid'},\n",
              "    {'detail': 'https://api.basisregisters.vlaanderen.be/v1/percelen/11803C0256-00B002',\n",
              "     'objectId': '11803C0256-00B002',\n",
              "     'objectType': 'perceel'}],\n",
              "   'detail': 'https://api.basisregisters.vlaanderen.be/v1/adressen/1891841',\n",
              "   'gemeente': {'detail': 'https://api.basisregisters.vlaanderen.be/v1/gemeenten/11002',\n",
              "    'gemeentenaam': {'geografischeNaam': {'spelling': 'Antwerpen',\n",
              "      'taal': 'nl'}},\n",
              "    'objectId': '11002'},\n",
              "   'huisnummer': '46',\n",
              "   'identificator': {'id': 'https://data.vlaanderen.be/id/adres/1891841',\n",
              "    'naamruimte': 'https://data.vlaanderen.be/id/adres',\n",
              "    'objectId': '1891841',\n",
              "    'versieId': '2020-06-26T08:35:07+02:00'},\n",
              "   'officieelToegekend': True,\n",
              "   'positieGeometrieMethode': 'aangeduidDoorBeheerder',\n",
              "   'positieSpecificatie': 'ingang',\n",
              "   'postinfo': {'detail': 'https://api.basisregisters.vlaanderen.be/v1/postinfo/2000',\n",
              "    'objectId': '2000'},\n",
              "   'score': 100.0,\n",
              "   'straatnaam': {'detail': 'https://api.basisregisters.vlaanderen.be/v1/straatnamen/1533',\n",
              "    'objectId': '1533',\n",
              "    'straatnaam': {'geografischeNaam': {'spelling': 'Kipdorpvest',\n",
              "      'taal': 'nl'}}},\n",
              "   'volledigAdres': {'geografischeNaam': {'spelling': 'Kipdorpvest 46, 2000 Antwerpen',\n",
              "     'taal': 'nl'}}},\n",
              "  {'adresPositie': {'point': {'coordinates': [153140.69, 211933.37],\n",
              "     'type': 'Point'}},\n",
              "   'adresStatus': 'inGebruik',\n",
              "   'adresseerbareObjecten': [{'detail': 'https://api.basisregisters.vlaanderen.be/v1/gebouweenheden/30666851',\n",
              "     'objectId': '30666851',\n",
              "     'objectType': 'gebouweenheid'},\n",
              "    {'detail': 'https://api.basisregisters.vlaanderen.be/v1/percelen/11803C0256-00B002',\n",
              "     'objectId': '11803C0256-00B002',\n",
              "     'objectType': 'perceel'}],\n",
              "   'busnummer': '01',\n",
              "   'detail': 'https://api.basisregisters.vlaanderen.be/v1/adressen/30028612',\n",
              "   'gemeente': {'detail': 'https://api.basisregisters.vlaanderen.be/v1/gemeenten/11002',\n",
              "    'gemeentenaam': {'geografischeNaam': {'spelling': 'Antwerpen',\n",
              "      'taal': 'nl'}},\n",
              "    'objectId': '11002'},\n",
              "   'huisnummer': '46',\n",
              "   'identificator': {'id': 'https://data.vlaanderen.be/id/adres/30028612',\n",
              "    'naamruimte': 'https://data.vlaanderen.be/id/adres',\n",
              "    'objectId': '30028612',\n",
              "    'versieId': '2020-07-23T19:21:35+02:00'},\n",
              "   'officieelToegekend': True,\n",
              "   'positieGeometrieMethode': 'aangeduidDoorBeheerder',\n",
              "   'positieSpecificatie': 'ingang',\n",
              "   'postinfo': {'detail': 'https://api.basisregisters.vlaanderen.be/v1/postinfo/2000',\n",
              "    'objectId': '2000'},\n",
              "   'score': 90.03239946636174,\n",
              "   'straatnaam': {'detail': 'https://api.basisregisters.vlaanderen.be/v1/straatnamen/1533',\n",
              "    'objectId': '1533',\n",
              "    'straatnaam': {'geografischeNaam': {'spelling': 'Kipdorpvest',\n",
              "      'taal': 'nl'}}},\n",
              "   'volledigAdres': {'geografischeNaam': {'spelling': 'Kipdorpvest 46 bus 01, 2000 Antwerpen',\n",
              "     'taal': 'nl'}}},\n",
              "  {'adresPositie': {'point': {'coordinates': [153140.69, 211933.37],\n",
              "     'type': 'Point'}},\n",
              "   'adresStatus': 'inGebruik',\n",
              "   'adresseerbareObjecten': [{'detail': 'https://api.basisregisters.vlaanderen.be/v1/gebouweenheden/16272194',\n",
              "     'objectId': '16272194',\n",
              "     'objectType': 'gebouweenheid'},\n",
              "    {'detail': 'https://api.basisregisters.vlaanderen.be/v1/percelen/11803C0256-00B002',\n",
              "     'objectId': '11803C0256-00B002',\n",
              "     'objectType': 'perceel'}],\n",
              "   'busnummer': '11',\n",
              "   'detail': 'https://api.basisregisters.vlaanderen.be/v1/adressen/4455936',\n",
              "   'gemeente': {'detail': 'https://api.basisregisters.vlaanderen.be/v1/gemeenten/11002',\n",
              "    'gemeentenaam': {'geografischeNaam': {'spelling': 'Antwerpen',\n",
              "      'taal': 'nl'}},\n",
              "    'objectId': '11002'},\n",
              "   'huisnummer': '46',\n",
              "   'identificator': {'id': 'https://data.vlaanderen.be/id/adres/4455936',\n",
              "    'naamruimte': 'https://data.vlaanderen.be/id/adres',\n",
              "    'objectId': '4455936',\n",
              "    'versieId': '2020-06-26T08:35:07+02:00'},\n",
              "   'officieelToegekend': True,\n",
              "   'positieGeometrieMethode': 'aangeduidDoorBeheerder',\n",
              "   'positieSpecificatie': 'ingang',\n",
              "   'postinfo': {'detail': 'https://api.basisregisters.vlaanderen.be/v1/postinfo/2000',\n",
              "    'objectId': '2000'},\n",
              "   'score': 90.03239946636174,\n",
              "   'straatnaam': {'detail': 'https://api.basisregisters.vlaanderen.be/v1/straatnamen/1533',\n",
              "    'objectId': '1533',\n",
              "    'straatnaam': {'geografischeNaam': {'spelling': 'Kipdorpvest',\n",
              "      'taal': 'nl'}}},\n",
              "   'volledigAdres': {'geografischeNaam': {'spelling': 'Kipdorpvest 46 bus 11, 2000 Antwerpen',\n",
              "     'taal': 'nl'}}},\n",
              "  {'adresPositie': {'point': {'coordinates': [153140.69, 211933.37],\n",
              "     'type': 'Point'}},\n",
              "   'adresStatus': 'inGebruik',\n",
              "   'adresseerbareObjecten': [{'detail': 'https://api.basisregisters.vlaanderen.be/v1/gebouweenheden/16272188',\n",
              "     'objectId': '16272188',\n",
              "     'objectType': 'gebouweenheid'},\n",
              "    {'detail': 'https://api.basisregisters.vlaanderen.be/v1/percelen/11803C0256-00B002',\n",
              "     'objectId': '11803C0256-00B002',\n",
              "     'objectType': 'perceel'}],\n",
              "   'busnummer': '12',\n",
              "   'detail': 'https://api.basisregisters.vlaanderen.be/v1/adressen/4881084',\n",
              "   'gemeente': {'detail': 'https://api.basisregisters.vlaanderen.be/v1/gemeenten/11002',\n",
              "    'gemeentenaam': {'geografischeNaam': {'spelling': 'Antwerpen',\n",
              "      'taal': 'nl'}},\n",
              "    'objectId': '11002'},\n",
              "   'huisnummer': '46',\n",
              "   'identificator': {'id': 'https://data.vlaanderen.be/id/adres/4881084',\n",
              "    'naamruimte': 'https://data.vlaanderen.be/id/adres',\n",
              "    'objectId': '4881084',\n",
              "    'versieId': '2020-06-26T08:35:07+02:00'},\n",
              "   'officieelToegekend': True,\n",
              "   'positieGeometrieMethode': 'aangeduidDoorBeheerder',\n",
              "   'positieSpecificatie': 'ingang',\n",
              "   'postinfo': {'detail': 'https://api.basisregisters.vlaanderen.be/v1/postinfo/2000',\n",
              "    'objectId': '2000'},\n",
              "   'score': 90.03239946636174,\n",
              "   'straatnaam': {'detail': 'https://api.basisregisters.vlaanderen.be/v1/straatnamen/1533',\n",
              "    'objectId': '1533',\n",
              "    'straatnaam': {'geografischeNaam': {'spelling': 'Kipdorpvest',\n",
              "      'taal': 'nl'}}},\n",
              "   'volledigAdres': {'geografischeNaam': {'spelling': 'Kipdorpvest 46 bus 12, 2000 Antwerpen',\n",
              "     'taal': 'nl'}}},\n",
              "  {'adresPositie': {'point': {'coordinates': [153140.69, 211933.37],\n",
              "     'type': 'Point'}},\n",
              "   'adresStatus': 'inGebruik',\n",
              "   'adresseerbareObjecten': [{'detail': 'https://api.basisregisters.vlaanderen.be/v1/gebouweenheden/16272186',\n",
              "     'objectId': '16272186',\n",
              "     'objectType': 'gebouweenheid'},\n",
              "    {'detail': 'https://api.basisregisters.vlaanderen.be/v1/percelen/11803C0256-00B002',\n",
              "     'objectId': '11803C0256-00B002',\n",
              "     'objectType': 'perceel'}],\n",
              "   'busnummer': '21',\n",
              "   'detail': 'https://api.basisregisters.vlaanderen.be/v1/adressen/4963757',\n",
              "   'gemeente': {'detail': 'https://api.basisregisters.vlaanderen.be/v1/gemeenten/11002',\n",
              "    'gemeentenaam': {'geografischeNaam': {'spelling': 'Antwerpen',\n",
              "      'taal': 'nl'}},\n",
              "    'objectId': '11002'},\n",
              "   'huisnummer': '46',\n",
              "   'identificator': {'id': 'https://data.vlaanderen.be/id/adres/4963757',\n",
              "    'naamruimte': 'https://data.vlaanderen.be/id/adres',\n",
              "    'objectId': '4963757',\n",
              "    'versieId': '2020-06-26T08:35:07+02:00'},\n",
              "   'officieelToegekend': True,\n",
              "   'positieGeometrieMethode': 'aangeduidDoorBeheerder',\n",
              "   'positieSpecificatie': 'ingang',\n",
              "   'postinfo': {'detail': 'https://api.basisregisters.vlaanderen.be/v1/postinfo/2000',\n",
              "    'objectId': '2000'},\n",
              "   'score': 90.03239946636174,\n",
              "   'straatnaam': {'detail': 'https://api.basisregisters.vlaanderen.be/v1/straatnamen/1533',\n",
              "    'objectId': '1533',\n",
              "    'straatnaam': {'geografischeNaam': {'spelling': 'Kipdorpvest',\n",
              "      'taal': 'nl'}}},\n",
              "   'volledigAdres': {'geografischeNaam': {'spelling': 'Kipdorpvest 46 bus 21, 2000 Antwerpen',\n",
              "     'taal': 'nl'}}},\n",
              "  {'adresPositie': {'point': {'coordinates': [153140.69, 211933.37],\n",
              "     'type': 'Point'}},\n",
              "   'adresStatus': 'inGebruik',\n",
              "   'adresseerbareObjecten': [{'detail': 'https://api.basisregisters.vlaanderen.be/v1/gebouweenheden/16272185',\n",
              "     'objectId': '16272185',\n",
              "     'objectType': 'gebouweenheid'},\n",
              "    {'detail': 'https://api.basisregisters.vlaanderen.be/v1/percelen/11803C0256-00B002',\n",
              "     'objectId': '11803C0256-00B002',\n",
              "     'objectType': 'perceel'}],\n",
              "   'busnummer': '31',\n",
              "   'detail': 'https://api.basisregisters.vlaanderen.be/v1/adressen/5118724',\n",
              "   'gemeente': {'detail': 'https://api.basisregisters.vlaanderen.be/v1/gemeenten/11002',\n",
              "    'gemeentenaam': {'geografischeNaam': {'spelling': 'Antwerpen',\n",
              "      'taal': 'nl'}},\n",
              "    'objectId': '11002'},\n",
              "   'huisnummer': '46',\n",
              "   'identificator': {'id': 'https://data.vlaanderen.be/id/adres/5118724',\n",
              "    'naamruimte': 'https://data.vlaanderen.be/id/adres',\n",
              "    'objectId': '5118724',\n",
              "    'versieId': '2020-06-26T08:35:08+02:00'},\n",
              "   'officieelToegekend': True,\n",
              "   'positieGeometrieMethode': 'aangeduidDoorBeheerder',\n",
              "   'positieSpecificatie': 'ingang',\n",
              "   'postinfo': {'detail': 'https://api.basisregisters.vlaanderen.be/v1/postinfo/2000',\n",
              "    'objectId': '2000'},\n",
              "   'score': 90.03239946636174,\n",
              "   'straatnaam': {'detail': 'https://api.basisregisters.vlaanderen.be/v1/straatnamen/1533',\n",
              "    'objectId': '1533',\n",
              "    'straatnaam': {'geografischeNaam': {'spelling': 'Kipdorpvest',\n",
              "      'taal': 'nl'}}},\n",
              "   'volledigAdres': {'geografischeNaam': {'spelling': 'Kipdorpvest 46 bus 31, 2000 Antwerpen',\n",
              "     'taal': 'nl'}}},\n",
              "  {'adresPositie': {'point': {'coordinates': [153140.69, 211933.37],\n",
              "     'type': 'Point'}},\n",
              "   'adresStatus': 'inGebruik',\n",
              "   'adresseerbareObjecten': [{'detail': 'https://api.basisregisters.vlaanderen.be/v1/gebouweenheden/16272192',\n",
              "     'objectId': '16272192',\n",
              "     'objectType': 'gebouweenheid'},\n",
              "    {'detail': 'https://api.basisregisters.vlaanderen.be/v1/percelen/11803C0256-00B002',\n",
              "     'objectId': '11803C0256-00B002',\n",
              "     'objectType': 'perceel'}],\n",
              "   'busnummer': '32',\n",
              "   'detail': 'https://api.basisregisters.vlaanderen.be/v1/adressen/4620014',\n",
              "   'gemeente': {'detail': 'https://api.basisregisters.vlaanderen.be/v1/gemeenten/11002',\n",
              "    'gemeentenaam': {'geografischeNaam': {'spelling': 'Antwerpen',\n",
              "      'taal': 'nl'}},\n",
              "    'objectId': '11002'},\n",
              "   'huisnummer': '46',\n",
              "   'identificator': {'id': 'https://data.vlaanderen.be/id/adres/4620014',\n",
              "    'naamruimte': 'https://data.vlaanderen.be/id/adres',\n",
              "    'objectId': '4620014',\n",
              "    'versieId': '2020-06-26T08:35:08+02:00'},\n",
              "   'officieelToegekend': True,\n",
              "   'positieGeometrieMethode': 'aangeduidDoorBeheerder',\n",
              "   'positieSpecificatie': 'ingang',\n",
              "   'postinfo': {'detail': 'https://api.basisregisters.vlaanderen.be/v1/postinfo/2000',\n",
              "    'objectId': '2000'},\n",
              "   'score': 90.03239946636174,\n",
              "   'straatnaam': {'detail': 'https://api.basisregisters.vlaanderen.be/v1/straatnamen/1533',\n",
              "    'objectId': '1533',\n",
              "    'straatnaam': {'geografischeNaam': {'spelling': 'Kipdorpvest',\n",
              "      'taal': 'nl'}}},\n",
              "   'volledigAdres': {'geografischeNaam': {'spelling': 'Kipdorpvest 46 bus 32, 2000 Antwerpen',\n",
              "     'taal': 'nl'}}},\n",
              "  {'adresPositie': {'point': {'coordinates': [153140.69, 211933.37],\n",
              "     'type': 'Point'}},\n",
              "   'adresStatus': 'inGebruik',\n",
              "   'adresseerbareObjecten': [{'detail': 'https://api.basisregisters.vlaanderen.be/v1/gebouweenheden/16272190',\n",
              "     'objectId': '16272190',\n",
              "     'objectType': 'gebouweenheid'},\n",
              "    {'detail': 'https://api.basisregisters.vlaanderen.be/v1/percelen/11803C0256-00B002',\n",
              "     'objectId': '11803C0256-00B002',\n",
              "     'objectType': 'perceel'}],\n",
              "   'busnummer': '41',\n",
              "   'detail': 'https://api.basisregisters.vlaanderen.be/v1/adressen/4789806',\n",
              "   'gemeente': {'detail': 'https://api.basisregisters.vlaanderen.be/v1/gemeenten/11002',\n",
              "    'gemeentenaam': {'geografischeNaam': {'spelling': 'Antwerpen',\n",
              "      'taal': 'nl'}},\n",
              "    'objectId': '11002'},\n",
              "   'huisnummer': '46',\n",
              "   'identificator': {'id': 'https://data.vlaanderen.be/id/adres/4789806',\n",
              "    'naamruimte': 'https://data.vlaanderen.be/id/adres',\n",
              "    'objectId': '4789806',\n",
              "    'versieId': '2020-06-26T08:35:08+02:00'},\n",
              "   'officieelToegekend': True,\n",
              "   'positieGeometrieMethode': 'aangeduidDoorBeheerder',\n",
              "   'positieSpecificatie': 'ingang',\n",
              "   'postinfo': {'detail': 'https://api.basisregisters.vlaanderen.be/v1/postinfo/2000',\n",
              "    'objectId': '2000'},\n",
              "   'score': 90.03239946636174,\n",
              "   'straatnaam': {'detail': 'https://api.basisregisters.vlaanderen.be/v1/straatnamen/1533',\n",
              "    'objectId': '1533',\n",
              "    'straatnaam': {'geografischeNaam': {'spelling': 'Kipdorpvest',\n",
              "      'taal': 'nl'}}},\n",
              "   'volledigAdres': {'geografischeNaam': {'spelling': 'Kipdorpvest 46 bus 41, 2000 Antwerpen',\n",
              "     'taal': 'nl'}}},\n",
              "  {'adresPositie': {'point': {'coordinates': [153140.69, 211933.37],\n",
              "     'type': 'Point'}},\n",
              "   'adresStatus': 'inGebruik',\n",
              "   'adresseerbareObjecten': [{'detail': 'https://api.basisregisters.vlaanderen.be/v1/gebouweenheden/30648156',\n",
              "     'objectId': '30648156',\n",
              "     'objectType': 'gebouweenheid'},\n",
              "    {'detail': 'https://api.basisregisters.vlaanderen.be/v1/percelen/11803C0256-00B002',\n",
              "     'objectId': '11803C0256-00B002',\n",
              "     'objectType': 'perceel'}],\n",
              "   'busnummer': '42',\n",
              "   'detail': 'https://api.basisregisters.vlaanderen.be/v1/adressen/30023447',\n",
              "   'gemeente': {'detail': 'https://api.basisregisters.vlaanderen.be/v1/gemeenten/11002',\n",
              "    'gemeentenaam': {'geografischeNaam': {'spelling': 'Antwerpen',\n",
              "      'taal': 'nl'}},\n",
              "    'objectId': '11002'},\n",
              "   'huisnummer': '46',\n",
              "   'identificator': {'id': 'https://data.vlaanderen.be/id/adres/30023447',\n",
              "    'naamruimte': 'https://data.vlaanderen.be/id/adres',\n",
              "    'objectId': '30023447',\n",
              "    'versieId': '2020-06-26T08:35:08+02:00'},\n",
              "   'officieelToegekend': True,\n",
              "   'positieGeometrieMethode': 'aangeduidDoorBeheerder',\n",
              "   'positieSpecificatie': 'ingang',\n",
              "   'postinfo': {'detail': 'https://api.basisregisters.vlaanderen.be/v1/postinfo/2000',\n",
              "    'objectId': '2000'},\n",
              "   'score': 90.03239946636174,\n",
              "   'straatnaam': {'detail': 'https://api.basisregisters.vlaanderen.be/v1/straatnamen/1533',\n",
              "    'objectId': '1533',\n",
              "    'straatnaam': {'geografischeNaam': {'spelling': 'Kipdorpvest',\n",
              "      'taal': 'nl'}}},\n",
              "   'volledigAdres': {'geografischeNaam': {'spelling': 'Kipdorpvest 46 bus 42, 2000 Antwerpen',\n",
              "     'taal': 'nl'}}},\n",
              "  {'adresPositie': {'point': {'coordinates': [153140.69, 211933.37],\n",
              "     'type': 'Point'}},\n",
              "   'adresStatus': 'inGebruik',\n",
              "   'adresseerbareObjecten': [{'detail': 'https://api.basisregisters.vlaanderen.be/v1/gebouweenheden/16272193',\n",
              "     'objectId': '16272193',\n",
              "     'objectType': 'gebouweenheid'},\n",
              "    {'detail': 'https://api.basisregisters.vlaanderen.be/v1/percelen/11803C0256-00B002',\n",
              "     'objectId': '11803C0256-00B002',\n",
              "     'objectType': 'perceel'}],\n",
              "   'busnummer': '51',\n",
              "   'detail': 'https://api.basisregisters.vlaanderen.be/v1/adressen/4526382',\n",
              "   'gemeente': {'detail': 'https://api.basisregisters.vlaanderen.be/v1/gemeenten/11002',\n",
              "    'gemeentenaam': {'geografischeNaam': {'spelling': 'Antwerpen',\n",
              "      'taal': 'nl'}},\n",
              "    'objectId': '11002'},\n",
              "   'huisnummer': '46',\n",
              "   'identificator': {'id': 'https://data.vlaanderen.be/id/adres/4526382',\n",
              "    'naamruimte': 'https://data.vlaanderen.be/id/adres',\n",
              "    'objectId': '4526382',\n",
              "    'versieId': '2020-06-26T08:35:08+02:00'},\n",
              "   'officieelToegekend': True,\n",
              "   'positieGeometrieMethode': 'aangeduidDoorBeheerder',\n",
              "   'positieSpecificatie': 'ingang',\n",
              "   'postinfo': {'detail': 'https://api.basisregisters.vlaanderen.be/v1/postinfo/2000',\n",
              "    'objectId': '2000'},\n",
              "   'score': 90.03239946636174,\n",
              "   'straatnaam': {'detail': 'https://api.basisregisters.vlaanderen.be/v1/straatnamen/1533',\n",
              "    'objectId': '1533',\n",
              "    'straatnaam': {'geografischeNaam': {'spelling': 'Kipdorpvest',\n",
              "      'taal': 'nl'}}},\n",
              "   'volledigAdres': {'geografischeNaam': {'spelling': 'Kipdorpvest 46 bus 51, 2000 Antwerpen',\n",
              "     'taal': 'nl'}}}],\n",
              " 'warnings': []}"
            ]
          },
          "metadata": {},
          "execution_count": 5
        }
      ]
    },
    {
      "cell_type": "code",
      "source": [
        "# Get the url of the building unit id\n",
        "\n",
        "build_unit = add_info[\"adresMatches\"][0][\"adresseerbareObjecten\"][0]['detail']\n",
        "build_unit"
      ],
      "metadata": {
        "colab": {
          "base_uri": "https://localhost:8080/",
          "height": 35
        },
        "id": "F-qo7Qhwjr__",
        "outputId": "aa4c6af3-2ecd-468e-9591-a2cfff0ad157"
      },
      "execution_count": 6,
      "outputs": [
        {
          "output_type": "execute_result",
          "data": {
            "text/plain": [
              "'https://api.basisregisters.vlaanderen.be/v1/gebouweenheden/16272156'"
            ],
            "application/vnd.google.colaboratory.intrinsic+json": {
              "type": "string"
            }
          },
          "metadata": {},
          "execution_count": 6
        }
      ]
    },
    {
      "cell_type": "code",
      "source": [
        "# Request the info for this building unit id\n",
        "\n",
        "build_unit = \"https://api.basisregisters.vlaanderen.be/v1/gebouweenheden/16272156\"\n",
        "req_info1 = requests.get(build_unit,params)\n",
        "build_unit_info = req_info1.json()\n",
        "build_unit_info"
      ],
      "metadata": {
        "colab": {
          "base_uri": "https://localhost:8080/"
        },
        "id": "_2ho0DrPlGCy",
        "outputId": "7e8fe94b-2e55-4126-c9ad-2f5568737ae8"
      },
      "execution_count": 7,
      "outputs": [
        {
          "output_type": "execute_result",
          "data": {
            "text/plain": [
              "{'adressen': [{'detail': 'https://api.basisregisters.vlaanderen.be/v1/adressen/1891841',\n",
              "   'objectId': '1891841'},\n",
              "  {'detail': 'https://api.basisregisters.vlaanderen.be/v1/adressen/804247',\n",
              "   'objectId': '804247'}],\n",
              " 'functie': 'gemeenschappelijkDeel',\n",
              " 'gebouw': {'detail': 'https://api.basisregisters.vlaanderen.be/v1/gebouwen/16270942',\n",
              "  'objectId': '16270942'},\n",
              " 'gebouweenheidStatus': 'gerealiseerd',\n",
              " 'geometriePunt': {'point': {'coordinates': [153131.32, 211933.83],\n",
              "   'type': 'Point'}},\n",
              " 'identificator': {'id': 'https://data.vlaanderen.be/id/gebouweenheid/16272156',\n",
              "  'naamruimte': 'https://data.vlaanderen.be/id/gebouweenheid',\n",
              "  'objectId': '16272156',\n",
              "  'versieId': '2018-10-22T16:01:04+02:00'},\n",
              " 'positieGeometrieMethode': 'afgeleidVanObject'}"
            ]
          },
          "metadata": {},
          "execution_count": 7
        }
      ]
    },
    {
      "cell_type": "code",
      "source": [
        "# Get the url of building ID\n",
        "\n",
        "build_id = build_unit_info['gebouw']['detail']\n",
        "build_id"
      ],
      "metadata": {
        "colab": {
          "base_uri": "https://localhost:8080/",
          "height": 35
        },
        "id": "9M5IWSwnlzr0",
        "outputId": "f23c589c-eaf5-4dbd-e016-483e672cb43b"
      },
      "execution_count": 8,
      "outputs": [
        {
          "output_type": "execute_result",
          "data": {
            "text/plain": [
              "'https://api.basisregisters.vlaanderen.be/v1/gebouwen/16270942'"
            ],
            "application/vnd.google.colaboratory.intrinsic+json": {
              "type": "string"
            }
          },
          "metadata": {},
          "execution_count": 8
        }
      ]
    },
    {
      "cell_type": "code",
      "source": [
        "# Get the info for the building id\n",
        "\n",
        "build_id = \"https://api.basisregisters.vlaanderen.be/v1/gebouwen/16270942\"\n",
        "add_req2 = requests.get(build_id,params)\n",
        "build_id_info = add_req2.json()\n",
        "build_id_info"
      ],
      "metadata": {
        "colab": {
          "base_uri": "https://localhost:8080/"
        },
        "id": "RhYW6J5RmdMZ",
        "outputId": "050132c0-c71b-4f79-fb87-6df5e108558c"
      },
      "execution_count": 9,
      "outputs": [
        {
          "output_type": "execute_result",
          "data": {
            "text/plain": [
              "{'gebouwStatus': 'gerealiseerd',\n",
              " 'gebouweenheden': [{'detail': 'https://api.basisregisters.vlaanderen.be/v1/gebouweenheden/16272156',\n",
              "   'objectId': '16272156'},\n",
              "  {'detail': 'https://api.basisregisters.vlaanderen.be/v1/gebouweenheden/16272185',\n",
              "   'objectId': '16272185'},\n",
              "  {'detail': 'https://api.basisregisters.vlaanderen.be/v1/gebouweenheden/16272186',\n",
              "   'objectId': '16272186'},\n",
              "  {'detail': 'https://api.basisregisters.vlaanderen.be/v1/gebouweenheden/16272188',\n",
              "   'objectId': '16272188'},\n",
              "  {'detail': 'https://api.basisregisters.vlaanderen.be/v1/gebouweenheden/16272190',\n",
              "   'objectId': '16272190'},\n",
              "  {'detail': 'https://api.basisregisters.vlaanderen.be/v1/gebouweenheden/16272192',\n",
              "   'objectId': '16272192'},\n",
              "  {'detail': 'https://api.basisregisters.vlaanderen.be/v1/gebouweenheden/16272193',\n",
              "   'objectId': '16272193'},\n",
              "  {'detail': 'https://api.basisregisters.vlaanderen.be/v1/gebouweenheden/16272194',\n",
              "   'objectId': '16272194'},\n",
              "  {'detail': 'https://api.basisregisters.vlaanderen.be/v1/gebouweenheden/16272202',\n",
              "   'objectId': '16272202'},\n",
              "  {'detail': 'https://api.basisregisters.vlaanderen.be/v1/gebouweenheden/16272203',\n",
              "   'objectId': '16272203'},\n",
              "  {'detail': 'https://api.basisregisters.vlaanderen.be/v1/gebouweenheden/16272204',\n",
              "   'objectId': '16272204'},\n",
              "  {'detail': 'https://api.basisregisters.vlaanderen.be/v1/gebouweenheden/16272205',\n",
              "   'objectId': '16272205'},\n",
              "  {'detail': 'https://api.basisregisters.vlaanderen.be/v1/gebouweenheden/16272206',\n",
              "   'objectId': '16272206'},\n",
              "  {'detail': 'https://api.basisregisters.vlaanderen.be/v1/gebouweenheden/16272207',\n",
              "   'objectId': '16272207'},\n",
              "  {'detail': 'https://api.basisregisters.vlaanderen.be/v1/gebouweenheden/16272208',\n",
              "   'objectId': '16272208'},\n",
              "  {'detail': 'https://api.basisregisters.vlaanderen.be/v1/gebouweenheden/16272209',\n",
              "   'objectId': '16272209'},\n",
              "  {'detail': 'https://api.basisregisters.vlaanderen.be/v1/gebouweenheden/16272210',\n",
              "   'objectId': '16272210'},\n",
              "  {'detail': 'https://api.basisregisters.vlaanderen.be/v1/gebouweenheden/16272211',\n",
              "   'objectId': '16272211'},\n",
              "  {'detail': 'https://api.basisregisters.vlaanderen.be/v1/gebouweenheden/16272213',\n",
              "   'objectId': '16272213'},\n",
              "  {'detail': 'https://api.basisregisters.vlaanderen.be/v1/gebouweenheden/30433260',\n",
              "   'objectId': '30433260'},\n",
              "  {'detail': 'https://api.basisregisters.vlaanderen.be/v1/gebouweenheden/30433262',\n",
              "   'objectId': '30433262'},\n",
              "  {'detail': 'https://api.basisregisters.vlaanderen.be/v1/gebouweenheden/30648156',\n",
              "   'objectId': '30648156'},\n",
              "  {'detail': 'https://api.basisregisters.vlaanderen.be/v1/gebouweenheden/30666851',\n",
              "   'objectId': '30666851'},\n",
              "  {'detail': 'https://api.basisregisters.vlaanderen.be/v1/gebouweenheden/30666852',\n",
              "   'objectId': '30666852'},\n",
              "  {'detail': 'https://api.basisregisters.vlaanderen.be/v1/gebouweenheden/30666853',\n",
              "   'objectId': '30666853'}],\n",
              " 'geometrieMethode': 'ingemetenGRB',\n",
              " 'geometriePolygoon': {'polygon': {'coordinates': [[[153146.80404543132,\n",
              "      211941.30997310206],\n",
              "     [153121.41806141287, 211941.515541099],\n",
              "     [153116.85850940645, 211930.0332370922],\n",
              "     [153134.88500542194, 211922.66101308912],\n",
              "     [153135.18599741906, 211923.39598908648],\n",
              "     [153135.97498942167, 211923.07298108935],\n",
              "     [153136.26497342438, 211923.78299708664],\n",
              "     [153137.01998142153, 211923.47899708897],\n",
              "     [153140.97300542146, 211933.29301309586],\n",
              "     [153141.5680134222, 211933.05301309377],\n",
              "     [153141.8839814216, 211933.8350290954],\n",
              "     [153142.51502142847, 211933.5799890943],\n",
              "     [153142.86298942566, 211934.44200509414],\n",
              "     [153143.4199814275, 211934.21800509468],\n",
              "     [153143.2009734288, 211933.67701309547],\n",
              "     [153143.64001342654, 211933.4999250956],\n",
              "     [153146.80404543132, 211941.30997310206]]],\n",
              "   'type': 'Polygon'}},\n",
              " 'identificator': {'id': 'https://data.vlaanderen.be/id/gebouw/16270942',\n",
              "  'naamruimte': 'https://data.vlaanderen.be/id/gebouw',\n",
              "  'objectId': '16270942',\n",
              "  'versieId': '2018-03-31T07:14:45+02:00'},\n",
              " 'percelen': [{'detail': 'https://api.basisregisters.vlaanderen.be/v1/percelen/11803C0256-00B002',\n",
              "   'objectId': '11803C0256-00B002'}]}"
            ]
          },
          "metadata": {},
          "execution_count": 9
        }
      ]
    },
    {
      "cell_type": "code",
      "source": [
        "# Get the geometry of the house as a Polygon object\n",
        "\n",
        "polygon = Polygon(build_id_info['geometriePolygoon']['polygon']['coordinates'][0])\n",
        "polygon"
      ],
      "metadata": {
        "colab": {
          "base_uri": "https://localhost:8080/",
          "height": 121
        },
        "id": "qR-q0TdrnRwt",
        "outputId": "f42a4c06-c2da-4ebb-c96b-e27d181c80ab"
      },
      "execution_count": 10,
      "outputs": [
        {
          "output_type": "execute_result",
          "data": {
            "text/plain": [
              "<shapely.geometry.polygon.Polygon at 0x7f49c9a28e10>"
            ],
            "image/svg+xml": "<svg xmlns=\"http://www.w3.org/2000/svg\" xmlns:xlink=\"http://www.w3.org/1999/xlink\" width=\"100.0\" height=\"100.0\" viewBox=\"153115.66068796546 211921.46319164813 32.341178906848654 21.250170891871676\" preserveAspectRatio=\"xMinYMin meet\"><g transform=\"matrix(1,0,0,-1,0,423864.17655418813)\"><path fill-rule=\"evenodd\" fill=\"#66cc99\" stroke=\"#555555\" stroke-width=\"0.6468235781369731\" opacity=\"0.6\" d=\"M 153146.80404543132,211941.30997310206 L 153121.41806141287,211941.515541099 L 153116.85850940645,211930.0332370922 L 153134.88500542194,211922.66101308912 L 153135.18599741906,211923.39598908648 L 153135.97498942167,211923.07298108935 L 153136.26497342438,211923.78299708664 L 153137.01998142153,211923.47899708897 L 153140.97300542146,211933.29301309586 L 153141.5680134222,211933.05301309377 L 153141.8839814216,211933.8350290954 L 153142.51502142847,211933.5799890943 L 153142.86298942566,211934.44200509414 L 153143.4199814275,211934.21800509468 L 153143.2009734288,211933.67701309547 L 153143.64001342654,211933.4999250956 L 153146.80404543132,211941.30997310206 z\" /></g></svg>"
          },
          "metadata": {},
          "execution_count": 10
        }
      ]
    },
    {
      "cell_type": "code",
      "source": [
        "coords = build_id_info['geometriePolygoon']['polygon']['coordinates'][0]\n",
        "coords"
      ],
      "metadata": {
        "colab": {
          "base_uri": "https://localhost:8080/"
        },
        "id": "iLQzuYJGg14O",
        "outputId": "1b8ec944-5642-4103-d452-dba157fbb194"
      },
      "execution_count": 11,
      "outputs": [
        {
          "output_type": "execute_result",
          "data": {
            "text/plain": [
              "[[153146.80404543132, 211941.30997310206],\n",
              " [153121.41806141287, 211941.515541099],\n",
              " [153116.85850940645, 211930.0332370922],\n",
              " [153134.88500542194, 211922.66101308912],\n",
              " [153135.18599741906, 211923.39598908648],\n",
              " [153135.97498942167, 211923.07298108935],\n",
              " [153136.26497342438, 211923.78299708664],\n",
              " [153137.01998142153, 211923.47899708897],\n",
              " [153140.97300542146, 211933.29301309586],\n",
              " [153141.5680134222, 211933.05301309377],\n",
              " [153141.8839814216, 211933.8350290954],\n",
              " [153142.51502142847, 211933.5799890943],\n",
              " [153142.86298942566, 211934.44200509414],\n",
              " [153143.4199814275, 211934.21800509468],\n",
              " [153143.2009734288, 211933.67701309547],\n",
              " [153143.64001342654, 211933.4999250956],\n",
              " [153146.80404543132, 211941.30997310206]]"
            ]
          },
          "metadata": {},
          "execution_count": 11
        }
      ]
    },
    {
      "cell_type": "code",
      "source": [
        "# Plot the polygon based on the given address\n",
        "\n",
        "x,y = polygon.exterior.xy\n",
        "fig = plt.figure(1,figsize=(5,5),dpi=90)\n",
        "ax = fig.add_subplot(111)\n",
        "ax.plot(x,y,color='y',alpha=0.7, linewidth=3, solid_capstyle='round', zorder=2)\n",
        "ax.set_title('Polygon')"
      ],
      "metadata": {
        "colab": {
          "base_uri": "https://localhost:8080/",
          "height": 449
        },
        "id": "01pSdanql7TH",
        "outputId": "16332ef0-48f8-44d1-ec35-74877972079b"
      },
      "execution_count": 12,
      "outputs": [
        {
          "output_type": "execute_result",
          "data": {
            "text/plain": [
              "Text(0.5, 1.0, 'Polygon')"
            ]
          },
          "metadata": {},
          "execution_count": 12
        },
        {
          "output_type": "display_data",
          "data": {
            "text/plain": [
              "<Figure size 450x450 with 1 Axes>"
            ],
            "image/png": "[encoded data removed]"
          },
          "metadata": {
            "needs_background": "light"
          }
        }
      ]
    },
    {
      "cell_type": "code",
      "source": [
        "# Get the bounding box from DSM tiff file\n",
        "\n",
        "DSM_tiff15 = \"/content/drive/MyDrive/3D_HOUSES/DSM_TIF/DHMVIIDSMRAS1m_k15.tif\"\n",
        "BB = rasterio.open(DSM_tiff15)\n",
        "bound_box = BB.bounds\n",
        "print(bound_box)"
      ],
      "metadata": {
        "id": "pzT87-Fq5ZHK",
        "colab": {
          "base_uri": "https://localhost:8080/"
        },
        "outputId": "cbfd7e83-f909-41ad-96af-1ee06330fa73"
      },
      "execution_count": 13,
      "outputs": [
        {
          "output_type": "stream",
          "name": "stdout",
          "text": [
            "BoundingBox(left=130000.0, bottom=198000.0, right=162000.0, top=218000.0)\n"
          ]
        }
      ]
    },
    {
      "cell_type": "code",
      "source": [
        "# Search coordinates(x,y) inside DSM tiff file\n",
        "\n",
        "src = rasterio.open(DSM_tiff15)\n",
        "bnd = src.bounds\n",
        "for x,y in coords:\n",
        "  if (bnd.left < x < bnd.right and bnd.top > y > bnd.bottom):\n",
        "      print(\"inside\")\n",
        "  else:\n",
        "      print(\"outside\")"
      ],
      "metadata": {
        "colab": {
          "base_uri": "https://localhost:8080/"
        },
        "id": "GggAl0CCB3mm",
        "outputId": "502fa41f-ecf0-43d2-d3de-163322743520"
      },
      "execution_count": 14,
      "outputs": [
        {
          "output_type": "stream",
          "name": "stdout",
          "text": [
            "inside\n",
            "inside\n",
            "inside\n",
            "inside\n",
            "inside\n",
            "inside\n",
            "inside\n",
            "inside\n",
            "inside\n",
            "inside\n",
            "inside\n",
            "inside\n",
            "inside\n",
            "inside\n",
            "inside\n",
            "inside\n",
            "inside\n"
          ]
        }
      ]
    },
    {
      "cell_type": "code",
      "source": [
        "# Get the bounding box from DTM tiff file\n",
        "\n",
        "DTM_tiff15 = \"/content/drive/MyDrive/3D_HOUSES/DSM_TIF/DHMVIIDTMRAS1m_k15.tif\"\n",
        "BB = rasterio.open(DTM_tiff15)\n",
        "bound_box = BB.bounds\n",
        "print(bound_box)"
      ],
      "metadata": {
        "id": "_QNrDCG2P75V",
        "colab": {
          "base_uri": "https://localhost:8080/"
        },
        "outputId": "b237b257-89d0-474c-ccda-15abc29ed330"
      },
      "execution_count": 15,
      "outputs": [
        {
          "output_type": "stream",
          "name": "stdout",
          "text": [
            "BoundingBox(left=130000.0, bottom=198000.0, right=162000.0, top=218000.0)\n"
          ]
        }
      ]
    },
    {
      "cell_type": "code",
      "source": [
        "# Search coordinates(x,y) inside DTM tiff file\n",
        "\n",
        "src = rasterio.open(DTM_tiff15)\n",
        "bnd = src.bounds\n",
        "for x,y in coords:\n",
        "  if (bnd.left < x < bnd.right and bnd.top > y > bnd.bottom):\n",
        "      print(\"inside\")\n",
        "  else:\n",
        "      print(\"outside\")"
      ],
      "metadata": {
        "colab": {
          "base_uri": "https://localhost:8080/"
        },
        "id": "ndOv9vzFThb7",
        "outputId": "a1afa712-5265-499c-fe0f-7a0faf719a7a"
      },
      "execution_count": 16,
      "outputs": [
        {
          "output_type": "stream",
          "name": "stdout",
          "text": [
            "inside\n",
            "inside\n",
            "inside\n",
            "inside\n",
            "inside\n",
            "inside\n",
            "inside\n",
            "inside\n",
            "inside\n",
            "inside\n",
            "inside\n",
            "inside\n",
            "inside\n",
            "inside\n",
            "inside\n",
            "inside\n",
            "inside\n"
          ]
        }
      ]
    },
    {
      "cell_type": "code",
      "source": [
        "# Clip the DSM.tiff file\n",
        "\n",
        "with rasterio.open(\"/content/drive/MyDrive/3D_HOUSES/DSM_TIF/DHMVIIDSMRAS1m_k15.tif\") as src:\n",
        "    out_image, out_transform = rasterio.mask.mask(src,[coords], crop=True)\n",
        "    clipped_DSM = out_image[0]\n"
      ],
      "metadata": {
        "id": "BMKdbp7vVLwd"
      },
      "execution_count": 20,
      "outputs": []
    },
    {
      "cell_type": "code",
      "source": [
        "# Clip the DTM.tiff file\n",
        "\n",
        "with rasterio.open(\"/content/drive/MyDrive/3D_HOUSES/DSM_TIF/DHMVIIDTMRAS1m_k15.tif\") as src:\n",
        "    out_image, out_transform = mask(src,[coords],crop=True)\n",
        "    clipped_DTM = out_image[0]"
      ],
      "metadata": {
        "id": "SOu5Qft4jjXx"
      },
      "execution_count": 21,
      "outputs": []
    }
  ]
}